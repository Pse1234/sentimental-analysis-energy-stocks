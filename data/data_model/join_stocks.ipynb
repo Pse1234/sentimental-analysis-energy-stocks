{
 "cells": [
  {
   "cell_type": "code",
   "execution_count": 21,
   "metadata": {},
   "outputs": [],
   "source": [
    "import pandas as pd\n",
    "import sys\n",
    "import os\n",
    "import re"
   ]
  },
  {
   "cell_type": "code",
   "execution_count": 24,
   "metadata": {},
   "outputs": [],
   "source": [
    "not_agg = [\"all_data.csv\", \"join_stocks.ipynb\", \"results.csv\", \"todo.csv\"]\n",
    "files = [file for file in os.listdir(\".\") if file not in not_agg]"
   ]
  },
  {
   "cell_type": "code",
   "execution_count": 26,
   "metadata": {},
   "outputs": [],
   "source": [
    "df_list = []\n",
    "for i, file in enumerate(files):\n",
    "    df_list.append(pd.read_csv(file))\n",
    "    \n",
    "final_df = pd.concat(df_list)"
   ]
  },
  {
   "cell_type": "code",
   "execution_count": 27,
   "metadata": {},
   "outputs": [],
   "source": [
    "import re\n",
    "\n",
    "df_list = []\n",
    "for i, file in enumerate(files):\n",
    "    df = pd.read_csv(file)\n",
    "    simplified_name = re.search(\"webscraped_(.*)\\.csv\", file).group(1)\n",
    "    simplified_name = simplified_name.replace(\"_\", \" \")\n",
    "    df['company'] = simplified_name\n",
    "    df_list.append(df)\n",
    "\n",
    "final_df = pd.concat(df_list)"
   ]
  },
  {
   "cell_type": "code",
   "execution_count": 28,
   "metadata": {},
   "outputs": [],
   "source": [
    "final_df.to_csv(\"all_data.csv\", index=False)"
   ]
  }
 ],
 "metadata": {
  "kernelspec": {
   "display_name": ".env",
   "language": "python",
   "name": "python3"
  },
  "language_info": {
   "codemirror_mode": {
    "name": "ipython",
    "version": 3
   },
   "file_extension": ".py",
   "mimetype": "text/x-python",
   "name": "python",
   "nbconvert_exporter": "python",
   "pygments_lexer": "ipython3",
   "version": "3.9.12"
  },
  "orig_nbformat": 4,
  "vscode": {
   "interpreter": {
    "hash": "13aa9e4f2e5a4ae88c1d0f09e60e407718cc556665e5931a3d795576d5298d19"
   }
  }
 },
 "nbformat": 4,
 "nbformat_minor": 2
}
