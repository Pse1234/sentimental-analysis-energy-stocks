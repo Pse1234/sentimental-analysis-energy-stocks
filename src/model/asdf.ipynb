{
 "cells": [
  {
   "cell_type": "code",
   "execution_count": 70,
   "metadata": {},
   "outputs": [],
   "source": [
    "import pandas as pd"
   ]
  },
  {
   "cell_type": "code",
   "execution_count": 71,
   "metadata": {},
   "outputs": [],
   "source": [
    "df = pd.read_csv(\"./../../data/data_model/webscraped_BP_PLC.csv\")"
   ]
  },
  {
   "cell_type": "code",
   "execution_count": 72,
   "metadata": {},
   "outputs": [
    {
     "data": {
      "text/plain": [
       "('2022-09-18', '2022-08-12')"
      ]
     },
     "execution_count": 72,
     "metadata": {},
     "output_type": "execute_result"
    }
   ],
   "source": [
    "df['PostDate'].max(), df['PostDate'].min()"
   ]
  },
  {
   "cell_type": "code",
   "execution_count": 73,
   "metadata": {},
   "outputs": [
    {
     "data": {
      "text/plain": [
       "(Timestamp('2022-09-18 00:00:00'), Timestamp('2022-08-12 00:00:00'))"
      ]
     },
     "execution_count": 73,
     "metadata": {},
     "output_type": "execute_result"
    }
   ],
   "source": [
    "pd.to_datetime(df['PostDate']).max(), pd.to_datetime(df['PostDate']).min()"
   ]
  },
  {
   "cell_type": "code",
   "execution_count": 74,
   "metadata": {},
   "outputs": [
    {
     "name": "stdout",
     "output_type": "stream",
     "text": [
      "Years, Months, Days between two dates is\n",
      "0 Years, 1 months, 6 days\n",
      "8 9\n"
     ]
    }
   ],
   "source": [
    "from datetime import datetime\n",
    "from dateutil import relativedelta\n",
    "\n",
    "d1 = df['PostDate'].min()\n",
    "d1 = df['PostDate'].max()\n",
    "\n",
    "# convert string to date object\n",
    "start_date = pd.to_datetime(df['PostDate'].min())\n",
    "end_date = pd.to_datetime(df['PostDate'].max())\n",
    "\n",
    "# Get the relativedelta between two dates\n",
    "delta = relativedelta.relativedelta(end_date, start_date)\n",
    "print('Years, Months, Days between two dates is')\n",
    "print(delta.years, 'Years,', delta.months, 'months,', delta.days, 'days')\n",
    "print(start_date.month, end_date.month)"
   ]
  },
  {
   "cell_type": "code",
   "execution_count": 75,
   "metadata": {},
   "outputs": [],
   "source": [
    "df['PostDate'] = pd.to_datetime(df['PostDate'].apply(lambda x: x[:-3]))"
   ]
  },
  {
   "cell_type": "code",
   "execution_count": 80,
   "metadata": {},
   "outputs": [
    {
     "name": "stdout",
     "output_type": "stream",
     "text": [
      "Execution time: 0.0991503999998713\n"
     ]
    }
   ],
   "source": [
    "import timeit\n",
    "\n",
    "code = \"\"\"\n",
    "df['sentiment_base'] = df['sentiment_base'].map({'positive': 1, 'neutral': 0, 'negative': -1})\n",
    "\"\"\"\n",
    "\n",
    "time = timeit.timeit(code, number=100, globals=globals())\n",
    "print(\"Execution time:\", time)"
   ]
  },
  {
   "cell_type": "code",
   "execution_count": null,
   "metadata": {},
   "outputs": [],
   "source": [
    "import timeit\n",
    "\n",
    "code = \"\"\"\n",
    "df['sentiment_base'] = df['sentiment_base'].apply(lambda x:1 if x==\"Bullish\" else -1)\n",
    "\"\"\"\n",
    "\n",
    "time = timeit.timeit(code, number=100, globals=globals())\n",
    "print(\"Execution time:\", time)"
   ]
  },
  {
   "cell_type": "code",
   "execution_count": 76,
   "metadata": {},
   "outputs": [],
   "source": [
    "df['sentiment'] = df['sentiment'].map({'Bullish': 1, 'Bearish': -1})\n",
    "df['sentiment_base'] = df['sentiment_base'].map({'positive': 1, 'neutral': 0, 'negative': -1})"
   ]
  },
  {
   "cell_type": "code",
   "execution_count": 77,
   "metadata": {},
   "outputs": [
    {
     "data": {
      "text/plain": [
       "PostDate\n",
       "2022-08-01   -49\n",
       "2022-09-01     6\n",
       "Name: sentiment_base, dtype: int64"
      ]
     },
     "execution_count": 77,
     "metadata": {},
     "output_type": "execute_result"
    }
   ],
   "source": [
    "df.groupby(\"PostDate\")['sentiment_base'].sum()"
   ]
  },
  {
   "cell_type": "code",
   "execution_count": 79,
   "metadata": {},
   "outputs": [
    {
     "data": {
      "text/html": [
       "<div>\n",
       "<style scoped>\n",
       "    .dataframe tbody tr th:only-of-type {\n",
       "        vertical-align: middle;\n",
       "    }\n",
       "\n",
       "    .dataframe tbody tr th {\n",
       "        vertical-align: top;\n",
       "    }\n",
       "\n",
       "    .dataframe thead th {\n",
       "        text-align: right;\n",
       "    }\n",
       "</style>\n",
       "<table border=\"1\" class=\"dataframe\">\n",
       "  <thead>\n",
       "    <tr style=\"text-align: right;\">\n",
       "      <th></th>\n",
       "      <th>sentiment</th>\n",
       "      <th>sentiment_base</th>\n",
       "    </tr>\n",
       "    <tr>\n",
       "      <th>PostDate</th>\n",
       "      <th></th>\n",
       "      <th></th>\n",
       "    </tr>\n",
       "  </thead>\n",
       "  <tbody>\n",
       "    <tr>\n",
       "      <th>2022-08-01</th>\n",
       "      <td>262</td>\n",
       "      <td>-49</td>\n",
       "    </tr>\n",
       "    <tr>\n",
       "      <th>2022-09-01</th>\n",
       "      <td>127</td>\n",
       "      <td>6</td>\n",
       "    </tr>\n",
       "  </tbody>\n",
       "</table>\n",
       "</div>"
      ],
      "text/plain": [
       "            sentiment  sentiment_base\n",
       "PostDate                             \n",
       "2022-08-01        262             -49\n",
       "2022-09-01        127               6"
      ]
     },
     "execution_count": 79,
     "metadata": {},
     "output_type": "execute_result"
    }
   ],
   "source": [
    "df.groupby(\"PostDate\")[['sentiment', 'sentiment_base']].sum()"
   ]
  }
 ],
 "metadata": {
  "kernelspec": {
   "display_name": ".env",
   "language": "python",
   "name": "python3"
  },
  "language_info": {
   "codemirror_mode": {
    "name": "ipython",
    "version": 3
   },
   "file_extension": ".py",
   "mimetype": "text/x-python",
   "name": "python",
   "nbconvert_exporter": "python",
   "pygments_lexer": "ipython3",
   "version": "3.9.12"
  },
  "orig_nbformat": 4,
  "vscode": {
   "interpreter": {
    "hash": "13aa9e4f2e5a4ae88c1d0f09e60e407718cc556665e5931a3d795576d5298d19"
   }
  }
 },
 "nbformat": 4,
 "nbformat_minor": 2
}
