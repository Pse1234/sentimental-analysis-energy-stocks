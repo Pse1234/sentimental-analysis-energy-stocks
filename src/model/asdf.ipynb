{
 "cells": [
  {
   "cell_type": "code",
   "execution_count": 65,
   "metadata": {},
   "outputs": [],
   "source": [
    "import pandas as pd"
   ]
  },
  {
   "cell_type": "code",
   "execution_count": 66,
   "metadata": {},
   "outputs": [],
   "source": [
    "df_1 = pd.read_csv(\"./../../data/data_model/webscraped_WEYERHAEUSER_CO.csv\")\n",
    "df_1[\"company\"] = \"WEYERHAEUSER CO\"\n",
    "df_2 = pd.read_csv(\"./../../data/data_model/webscraped_FMC_CORP.csv\")\n",
    "df_2[\"company\"] = \"FMC CORP\"\n",
    "df_3 = pd.read_csv(\"./../../data/data_model/webscraped_FMC_CORP.csv\")\n",
    "df_3[\"company\"] = \"BP PLC\"\n",
    "df = pd.concat([df_1, df_2, df_3])"
   ]
  },
  {
   "cell_type": "code",
   "execution_count": 67,
   "metadata": {},
   "outputs": [],
   "source": [
    "df['PostDate'] = pd.to_datetime(df['PostDate'].apply(lambda x: x[:-3]))\n",
    "df['year'] = df['PostDate'].dt.year\n",
    "df['month'] = df['PostDate'].dt.month\n",
    "\n",
    "df['sentiment'] = df['sentiment'].map({'Bullish': 1, 'Bearish': -1})\n",
    "df['sentiment_base'] = df['sentiment_base'].map({'positive': 1, 'neutral': 0, 'negative': -1})"
   ]
  },
  {
   "cell_type": "code",
   "execution_count": 69,
   "metadata": {},
   "outputs": [],
   "source": [
    "# group the data by year and month\n",
    "grouped = df.groupby(['year', 'month', 'company'])\n",
    "\n",
    "# count the number of positive and negative tweets for each year and month\n",
    "sentiment_positive_tweets_by_month = grouped['sentiment'].apply(lambda x: (x == 1).sum())\n",
    "sentiment_negative_tweets_by_month = grouped['sentiment'].apply(lambda x: (x == -1).sum())\n",
    "\n",
    "sentiment_base_positive_tweets_by_month = grouped['sentiment_base'].apply(lambda x: (x == 1).sum())\n",
    "sentiment_base_neutral_tweets_by_month = grouped['sentiment_base'].apply(lambda x: (x == 0).sum())\n",
    "sentiment_base_negative_tweets_by_month = grouped['sentiment_base'].apply(lambda x: (x == -1).sum())\n",
    "\n",
    "# calculate the ratio of positive and negative tweets for each year and month\n",
    "positive_ratios_by_month = (sentiment_base_positive_tweets_by_month + sentiment_positive_tweets_by_month) / (sentiment_positive_tweets_by_month + sentiment_negative_tweets_by_month + sentiment_base_positive_tweets_by_month + sentiment_base_neutral_tweets_by_month + sentiment_base_negative_tweets_by_month)"
   ]
  },
  {
   "cell_type": "code",
   "execution_count": 70,
   "metadata": {},
   "outputs": [],
   "source": [
    "positive_ratios_by_month = positive_ratios_by_month.reset_index()"
   ]
  },
  {
   "cell_type": "code",
   "execution_count": 73,
   "metadata": {},
   "outputs": [],
   "source": [
    "positive_ratios_by_month.rename(columns={0:'positive_ratio'}, inplace=True)"
   ]
  },
  {
   "cell_type": "code",
   "execution_count": 75,
   "metadata": {},
   "outputs": [
    {
     "data": {
      "text/html": [
       "<div>\n",
       "<style scoped>\n",
       "    .dataframe tbody tr th:only-of-type {\n",
       "        vertical-align: middle;\n",
       "    }\n",
       "\n",
       "    .dataframe tbody tr th {\n",
       "        vertical-align: top;\n",
       "    }\n",
       "\n",
       "    .dataframe thead th {\n",
       "        text-align: right;\n",
       "    }\n",
       "</style>\n",
       "<table border=\"1\" class=\"dataframe\">\n",
       "  <thead>\n",
       "    <tr style=\"text-align: right;\">\n",
       "      <th></th>\n",
       "      <th>year</th>\n",
       "      <th>month</th>\n",
       "      <th>company</th>\n",
       "      <th>positive_ratio</th>\n",
       "    </tr>\n",
       "  </thead>\n",
       "  <tbody>\n",
       "    <tr>\n",
       "      <th>0</th>\n",
       "      <td>2017</td>\n",
       "      <td>10</td>\n",
       "      <td>BP PLC</td>\n",
       "      <td>0.300000</td>\n",
       "    </tr>\n",
       "    <tr>\n",
       "      <th>1</th>\n",
       "      <td>2017</td>\n",
       "      <td>10</td>\n",
       "      <td>FMC CORP</td>\n",
       "      <td>0.300000</td>\n",
       "    </tr>\n",
       "    <tr>\n",
       "      <th>2</th>\n",
       "      <td>2017</td>\n",
       "      <td>10</td>\n",
       "      <td>WEYERHAEUSER CO</td>\n",
       "      <td>0.000000</td>\n",
       "    </tr>\n",
       "    <tr>\n",
       "      <th>3</th>\n",
       "      <td>2017</td>\n",
       "      <td>11</td>\n",
       "      <td>BP PLC</td>\n",
       "      <td>0.517241</td>\n",
       "    </tr>\n",
       "    <tr>\n",
       "      <th>4</th>\n",
       "      <td>2017</td>\n",
       "      <td>11</td>\n",
       "      <td>FMC CORP</td>\n",
       "      <td>0.517241</td>\n",
       "    </tr>\n",
       "    <tr>\n",
       "      <th>...</th>\n",
       "      <td>...</td>\n",
       "      <td>...</td>\n",
       "      <td>...</td>\n",
       "      <td>...</td>\n",
       "    </tr>\n",
       "    <tr>\n",
       "      <th>171</th>\n",
       "      <td>2022</td>\n",
       "      <td>7</td>\n",
       "      <td>BP PLC</td>\n",
       "      <td>0.440476</td>\n",
       "    </tr>\n",
       "    <tr>\n",
       "      <th>172</th>\n",
       "      <td>2022</td>\n",
       "      <td>7</td>\n",
       "      <td>FMC CORP</td>\n",
       "      <td>0.440476</td>\n",
       "    </tr>\n",
       "    <tr>\n",
       "      <th>173</th>\n",
       "      <td>2022</td>\n",
       "      <td>7</td>\n",
       "      <td>WEYERHAEUSER CO</td>\n",
       "      <td>0.550000</td>\n",
       "    </tr>\n",
       "    <tr>\n",
       "      <th>174</th>\n",
       "      <td>2022</td>\n",
       "      <td>8</td>\n",
       "      <td>WEYERHAEUSER CO</td>\n",
       "      <td>0.500000</td>\n",
       "    </tr>\n",
       "    <tr>\n",
       "      <th>175</th>\n",
       "      <td>2022</td>\n",
       "      <td>9</td>\n",
       "      <td>WEYERHAEUSER CO</td>\n",
       "      <td>0.523810</td>\n",
       "    </tr>\n",
       "  </tbody>\n",
       "</table>\n",
       "<p>176 rows × 4 columns</p>\n",
       "</div>"
      ],
      "text/plain": [
       "     year  month          company  positive_ratio\n",
       "0    2017     10           BP PLC        0.300000\n",
       "1    2017     10         FMC CORP        0.300000\n",
       "2    2017     10  WEYERHAEUSER CO        0.000000\n",
       "3    2017     11           BP PLC        0.517241\n",
       "4    2017     11         FMC CORP        0.517241\n",
       "..    ...    ...              ...             ...\n",
       "171  2022      7           BP PLC        0.440476\n",
       "172  2022      7         FMC CORP        0.440476\n",
       "173  2022      7  WEYERHAEUSER CO        0.550000\n",
       "174  2022      8  WEYERHAEUSER CO        0.500000\n",
       "175  2022      9  WEYERHAEUSER CO        0.523810\n",
       "\n",
       "[176 rows x 4 columns]"
      ]
     },
     "execution_count": 75,
     "metadata": {},
     "output_type": "execute_result"
    }
   ],
   "source": [
    "positive_ratios_by_month"
   ]
  },
  {
   "cell_type": "code",
   "execution_count": 79,
   "metadata": {},
   "outputs": [
    {
     "data": {
      "text/plain": [
       "array([10, 11, 12,  1,  2,  3,  4,  5,  6,  7,  8,  9])"
      ]
     },
     "execution_count": 79,
     "metadata": {},
     "output_type": "execute_result"
    }
   ],
   "source": [
    "positive_ratios_by_month['month'].unique()"
   ]
  },
  {
   "cell_type": "code",
   "execution_count": 80,
   "metadata": {},
   "outputs": [
    {
     "data": {
      "text/plain": [
       "array([2017, 2018, 2019, 2020, 2021, 2022])"
      ]
     },
     "execution_count": 80,
     "metadata": {},
     "output_type": "execute_result"
    }
   ],
   "source": [
    "positive_ratios_by_month['year'].unique()"
   ]
  },
  {
   "cell_type": "code",
   "execution_count": 8,
   "metadata": {},
   "outputs": [],
   "source": [
    "# count the number of positive and negative tweets for each year and month\n",
    "positive_tweets_by_month = grouped['sentiment'].apply(lambda x: (x == 1).sum())\n",
    "negative_tweets_by_month = grouped['sentiment'].apply(lambda x: (x == -1).sum())\n",
    "\n",
    "# calculate the ratio of positive and negative tweets for each year and month\n",
    "ratios_by_month = positive_tweets_by_month / (positive_tweets_by_month + negative_tweets_by_month)\n",
    "\n",
    "# select the values for August and September 2022\n",
    "ratio_positive_tweets_august_2022 = ratios_by_month[(2022, 8)]\n",
    "ratio_positive_tweets_september_2022 = ratios_by_month[(2022, 9)]"
   ]
  },
  {
   "cell_type": "code",
   "execution_count": null,
   "metadata": {},
   "outputs": [],
   "source": [
    "import pandas as pd\n",
    "\n",
    "# sample dataframe\n",
    "df = pd.DataFrame({'PostDate': ['12-08-2022', '13-08-2022', '15-09-2022', '17-09-2022', '18-09-2022', \n",
    "                                '12-10-2017', '13-11-2017', '15-12-2017', '17-01-2018', '18-02-2018'],\n",
    "                   'sentiment': [1, 1, -1, 1, 1, 1, -1, 1, -1, -1],\n",
    "                   'sentiment_base': [-1, -1, 1, -1, -1, 1, 1, -1, 1, 1]})\n",
    "\n",
    "# convert the 'PostDate' column to datetime\n",
    "df['PostDate'] = pd.to_datetime(df['PostDate'], format='%d-%m-%Y')\n",
    "\n",
    "# add a column for the year and month\n",
    "df['year'] = df['PostDate'].dt.year\n",
    "df['month'] = df['PostDate'].dt.month\n",
    "\n",
    "# group the data by year, month, and sentiment\n",
    "grouped = df.groupby(['year', 'month', 'sentiment'])\n",
    "\n",
    "# count the number of tweets for each sentiment (1 or -1) and sentiment_base (-1, 0 or 1)\n",
    "tweets_by_month = grouped.size().reset_index(name='count')\n",
    "\n",
    "# pivot the data to have the count of tweets for each sentiment and sentiment_base as columns\n",
    "tweets_by_month = tweets_by_month.pivot_table(index=['year', 'month'], columns=['sentiment', 'sentiment_base'], values='count').fillna(0)\n",
    "\n",
    "# select the values for August and September 2022\n",
    "positive_tweets_august_2022 = tweets_by_month.loc[(2022, 8), (1, -1)]\n",
    "positive_tweets_september_2022 = tweets_by_month.loc[(2022, 9), (1, -1)]\n",
    "\n",
    "print(\"Positive tweets with sentiment_base -1 in August 2022:\", positive_tweets_august_2022[-1])\n",
    "print(\"Positive tweets with sentiment_base 1 in August 2022:\", positive_tweets_august_2022[1])\n",
    "print(\"Positive tweets with sentiment_base -1 in September 2022:\", positive_tweets_september_2022[-1])\n",
    "print(\"Positive tweets with sentiment_base 1 in September 2022:\", positive_tweets_se\n"
   ]
  }
 ],
 "metadata": {
  "kernelspec": {
   "display_name": ".env",
   "language": "python",
   "name": "python3"
  },
  "language_info": {
   "codemirror_mode": {
    "name": "ipython",
    "version": 3
   },
   "file_extension": ".py",
   "mimetype": "text/x-python",
   "name": "python",
   "nbconvert_exporter": "python",
   "pygments_lexer": "ipython3",
   "version": "3.9.12"
  },
  "orig_nbformat": 4,
  "vscode": {
   "interpreter": {
    "hash": "13aa9e4f2e5a4ae88c1d0f09e60e407718cc556665e5931a3d795576d5298d19"
   }
  }
 },
 "nbformat": 4,
 "nbformat_minor": 2
}
